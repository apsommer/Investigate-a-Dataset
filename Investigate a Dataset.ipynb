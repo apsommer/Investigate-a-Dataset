{
 "cells": [
  {
   "cell_type": "markdown",
   "metadata": {},
   "source": [
    "# Investigating Internet, Patents, and Population on the World Scale.\n",
    "\n",
    "## Table of Contents\n",
    "<ul>\n",
    "<li><a href=\"#intro\">Introduction</a></li>\n",
    "<li><a href=\"#wrangling\">Data Wrangling</a></li>\n",
    "<li><a href=\"#eda\">Exploratory Data Analysis</a></li>\n",
    "<li><a href=\"#conclusions\">Conclusions</a></li>\n",
    "</ul>"
   ]
  },
  {
   "cell_type": "markdown",
   "metadata": {},
   "source": [
    "<a id='intro'></a>\n",
    "## Introduction\n",
    "\n",
    "A vast amount of data has been organized by country and year for metrics related to the economy, education, environment, health, and more. Some of the data sets span hundreds of years.\n",
    "\n",
    "> Note: Data for this report is in the public domain at https://www.gapminder.org/data/."
   ]
  },
  {
   "cell_type": "markdown",
   "metadata": {},
   "source": [
    "From the website download the three files shown below as XLSX, open in spreadsheet software and save as CSV with utf-8 encoding."
   ]
  },
  {
   "cell_type": "markdown",
   "metadata": {},
   "source": [
    "<ul>\n",
    "<li>Internet user per 100.xlsx</li>\n",
    "<li>indicator Patent grants.xlsx</li>\n",
    "<li>indicator gapminder population.xlsx</li>\n",
    "</ul>"
   ]
  },
  {
   "cell_type": "markdown",
   "metadata": {},
   "source": [
    "#### Install Anaconda and open terminal."
   ]
  },
  {
   "cell_type": "markdown",
   "metadata": {},
   "source": [
    "` ~ $ conda create -n proj3 # create a new environment to isolate project dependencies`\n",
    "\n",
    "`~ $ source activate proj3 # enter environment`\n",
    "\n",
    "`~ $ conda install python=3 numpy pandas matplotlib seaborn # install required packages`\n",
    "\n",
    "`~ $ conda env export > environment.yaml # write project dependencies to conda specific file`\n",
    "\n",
    "`~ $ pip freeze > requirements.txt # write project dependencies to generic file`"
   ]
  },
  {
   "cell_type": "code",
   "execution_count": 1,
   "metadata": {},
   "outputs": [],
   "source": [
    "# import packages to environment\n",
    "import numpy as np\n",
    "import pandas as pd\n",
    "import seaborn as sns\n",
    "import matplotlib.pyplot as plt"
   ]
  },
  {
   "cell_type": "code",
   "execution_count": 2,
   "metadata": {},
   "outputs": [],
   "source": [
    "# \"magic\" keyword creates plots inline with this jupyter notebook\n",
    "% matplotlib inline"
   ]
  },
  {
   "cell_type": "code",
   "execution_count": 3,
   "metadata": {},
   "outputs": [],
   "source": [
    "# display format of floats in dataframe presentations\n",
    "pd.options.display.float_format = '{:,.0f}'.format"
   ]
  },
  {
   "cell_type": "markdown",
   "metadata": {},
   "source": [
    "### Analysis Questions"
   ]
  },
  {
   "cell_type": "markdown",
   "metadata": {},
   "source": [
    "These questions below follow a common theme. Does access to information (internet) increase creativity (patents granted) on a worldwide scale? These data set are uniquely capable of investigating this idea."
   ]
  },
  {
   "cell_type": "markdown",
   "metadata": {},
   "source": [
    "#### 1. How has internet access changed in the world over time?\n",
    "#### 2. What countries produced the most patents between 1990 - 2001?\n",
    "#### 3. What countries produced the most patents _per capita_ between 1990 - 2001?\n",
    "#### 4. For the countries identified in Question 3, what is the Person's R correlation between internet access and patents granted?"
   ]
  },
  {
   "cell_type": "markdown",
   "metadata": {},
   "source": [
    "<a id='wrangling'></a>\n",
    "## Data Wrangling"
   ]
  },
  {
   "cell_type": "markdown",
   "metadata": {},
   "source": [
    "#### General Properties"
   ]
  },
  {
   "cell_type": "code",
   "execution_count": 4,
   "metadata": {},
   "outputs": [],
   "source": [
    "# import csv files and assign to pandas DataFrame objects\n",
    "df_int = pd.read_csv('internet.csv', index_col = 0)\n",
    "df_pat = pd.read_csv('patents.csv', index_col = 0)\n",
    "df_pop = pd.read_csv('population.csv', index_col = 0)"
   ]
  },
  {
   "cell_type": "markdown",
   "metadata": {},
   "source": [
    "> Note: The units are important. The internet data has units of \"internet users per 100 people\"; the patent and population data are simply \"total occurrences\""
   ]
  },
  {
   "cell_type": "code",
   "execution_count": 5,
   "metadata": {
    "scrolled": true
   },
   "outputs": [
    {
     "data": {
      "text/html": [
       "<div>\n",
       "<style scoped>\n",
       "    .dataframe tbody tr th:only-of-type {\n",
       "        vertical-align: middle;\n",
       "    }\n",
       "\n",
       "    .dataframe tbody tr th {\n",
       "        vertical-align: top;\n",
       "    }\n",
       "\n",
       "    .dataframe thead th {\n",
       "        text-align: right;\n",
       "    }\n",
       "</style>\n",
       "<table border=\"1\" class=\"dataframe\">\n",
       "  <thead>\n",
       "    <tr style=\"text-align: right;\">\n",
       "      <th></th>\n",
       "      <th>1990</th>\n",
       "      <th>1991</th>\n",
       "      <th>1992</th>\n",
       "      <th>1993</th>\n",
       "      <th>1994</th>\n",
       "      <th>1995</th>\n",
       "      <th>1996</th>\n",
       "      <th>1997</th>\n",
       "      <th>1998</th>\n",
       "      <th>1999</th>\n",
       "      <th>...</th>\n",
       "      <th>2002</th>\n",
       "      <th>2003</th>\n",
       "      <th>2004</th>\n",
       "      <th>2005</th>\n",
       "      <th>2006</th>\n",
       "      <th>2007</th>\n",
       "      <th>2008</th>\n",
       "      <th>2009</th>\n",
       "      <th>2010</th>\n",
       "      <th>2011</th>\n",
       "    </tr>\n",
       "  </thead>\n",
       "  <tbody>\n",
       "    <tr>\n",
       "      <th>Abkhazia</th>\n",
       "      <td>nan</td>\n",
       "      <td>nan</td>\n",
       "      <td>nan</td>\n",
       "      <td>nan</td>\n",
       "      <td>nan</td>\n",
       "      <td>nan</td>\n",
       "      <td>nan</td>\n",
       "      <td>nan</td>\n",
       "      <td>nan</td>\n",
       "      <td>nan</td>\n",
       "      <td>...</td>\n",
       "      <td>nan</td>\n",
       "      <td>nan</td>\n",
       "      <td>nan</td>\n",
       "      <td>nan</td>\n",
       "      <td>nan</td>\n",
       "      <td>nan</td>\n",
       "      <td>nan</td>\n",
       "      <td>nan</td>\n",
       "      <td>nan</td>\n",
       "      <td>nan</td>\n",
       "    </tr>\n",
       "    <tr>\n",
       "      <th>Afghanistan</th>\n",
       "      <td>0</td>\n",
       "      <td>nan</td>\n",
       "      <td>nan</td>\n",
       "      <td>nan</td>\n",
       "      <td>nan</td>\n",
       "      <td>nan</td>\n",
       "      <td>nan</td>\n",
       "      <td>nan</td>\n",
       "      <td>nan</td>\n",
       "      <td>nan</td>\n",
       "      <td>...</td>\n",
       "      <td>0</td>\n",
       "      <td>0</td>\n",
       "      <td>0</td>\n",
       "      <td>1</td>\n",
       "      <td>2</td>\n",
       "      <td>2</td>\n",
       "      <td>2</td>\n",
       "      <td>3</td>\n",
       "      <td>4</td>\n",
       "      <td>5</td>\n",
       "    </tr>\n",
       "    <tr>\n",
       "      <th>Akrotiri and Dhekelia</th>\n",
       "      <td>nan</td>\n",
       "      <td>nan</td>\n",
       "      <td>nan</td>\n",
       "      <td>nan</td>\n",
       "      <td>nan</td>\n",
       "      <td>nan</td>\n",
       "      <td>nan</td>\n",
       "      <td>nan</td>\n",
       "      <td>nan</td>\n",
       "      <td>nan</td>\n",
       "      <td>...</td>\n",
       "      <td>nan</td>\n",
       "      <td>nan</td>\n",
       "      <td>nan</td>\n",
       "      <td>nan</td>\n",
       "      <td>nan</td>\n",
       "      <td>nan</td>\n",
       "      <td>nan</td>\n",
       "      <td>nan</td>\n",
       "      <td>nan</td>\n",
       "      <td>nan</td>\n",
       "    </tr>\n",
       "    <tr>\n",
       "      <th>Albania</th>\n",
       "      <td>0</td>\n",
       "      <td>nan</td>\n",
       "      <td>nan</td>\n",
       "      <td>nan</td>\n",
       "      <td>nan</td>\n",
       "      <td>0</td>\n",
       "      <td>0</td>\n",
       "      <td>0</td>\n",
       "      <td>0</td>\n",
       "      <td>0</td>\n",
       "      <td>...</td>\n",
       "      <td>0</td>\n",
       "      <td>1</td>\n",
       "      <td>2</td>\n",
       "      <td>6</td>\n",
       "      <td>10</td>\n",
       "      <td>15</td>\n",
       "      <td>24</td>\n",
       "      <td>41</td>\n",
       "      <td>45</td>\n",
       "      <td>49</td>\n",
       "    </tr>\n",
       "    <tr>\n",
       "      <th>Algeria</th>\n",
       "      <td>0</td>\n",
       "      <td>nan</td>\n",
       "      <td>nan</td>\n",
       "      <td>nan</td>\n",
       "      <td>0</td>\n",
       "      <td>0</td>\n",
       "      <td>0</td>\n",
       "      <td>0</td>\n",
       "      <td>0</td>\n",
       "      <td>0</td>\n",
       "      <td>...</td>\n",
       "      <td>2</td>\n",
       "      <td>2</td>\n",
       "      <td>5</td>\n",
       "      <td>6</td>\n",
       "      <td>7</td>\n",
       "      <td>9</td>\n",
       "      <td>10</td>\n",
       "      <td>11</td>\n",
       "      <td>12</td>\n",
       "      <td>14</td>\n",
       "    </tr>\n",
       "  </tbody>\n",
       "</table>\n",
       "<p>5 rows × 22 columns</p>\n",
       "</div>"
      ],
      "text/plain": [
       "                       1990  1991  1992  1993  1994  1995  1996  1997  1998  \\\n",
       "Abkhazia                nan   nan   nan   nan   nan   nan   nan   nan   nan   \n",
       "Afghanistan               0   nan   nan   nan   nan   nan   nan   nan   nan   \n",
       "Akrotiri and Dhekelia   nan   nan   nan   nan   nan   nan   nan   nan   nan   \n",
       "Albania                   0   nan   nan   nan   nan     0     0     0     0   \n",
       "Algeria                   0   nan   nan   nan     0     0     0     0     0   \n",
       "\n",
       "                       1999  ...   2002  2003  2004  2005  2006  2007  2008  \\\n",
       "Abkhazia                nan  ...    nan   nan   nan   nan   nan   nan   nan   \n",
       "Afghanistan             nan  ...      0     0     0     1     2     2     2   \n",
       "Akrotiri and Dhekelia   nan  ...    nan   nan   nan   nan   nan   nan   nan   \n",
       "Albania                   0  ...      0     1     2     6    10    15    24   \n",
       "Algeria                   0  ...      2     2     5     6     7     9    10   \n",
       "\n",
       "                       2009  2010  2011  \n",
       "Abkhazia                nan   nan   nan  \n",
       "Afghanistan               3     4     5  \n",
       "Akrotiri and Dhekelia   nan   nan   nan  \n",
       "Albania                  41    45    49  \n",
       "Algeria                  11    12    14  \n",
       "\n",
       "[5 rows x 22 columns]"
      ]
     },
     "execution_count": 5,
     "metadata": {},
     "output_type": "execute_result"
    }
   ],
   "source": [
    "# check the conversion of csv to dataframe\n",
    "df_int.head()"
   ]
  },
  {
   "cell_type": "code",
   "execution_count": 6,
   "metadata": {
    "scrolled": true
   },
   "outputs": [
    {
     "data": {
      "text/html": [
       "<div>\n",
       "<style scoped>\n",
       "    .dataframe tbody tr th:only-of-type {\n",
       "        vertical-align: middle;\n",
       "    }\n",
       "\n",
       "    .dataframe tbody tr th {\n",
       "        vertical-align: top;\n",
       "    }\n",
       "\n",
       "    .dataframe thead th {\n",
       "        text-align: right;\n",
       "    }\n",
       "</style>\n",
       "<table border=\"1\" class=\"dataframe\">\n",
       "  <thead>\n",
       "    <tr style=\"text-align: right;\">\n",
       "      <th></th>\n",
       "      <th>1984</th>\n",
       "      <th>1985</th>\n",
       "      <th>1986</th>\n",
       "      <th>1987</th>\n",
       "      <th>1988</th>\n",
       "      <th>1989</th>\n",
       "      <th>1990</th>\n",
       "      <th>1991</th>\n",
       "      <th>1992</th>\n",
       "      <th>1993</th>\n",
       "      <th>1994</th>\n",
       "      <th>1995</th>\n",
       "      <th>1996</th>\n",
       "      <th>1997</th>\n",
       "      <th>1998</th>\n",
       "      <th>1999</th>\n",
       "      <th>2000</th>\n",
       "      <th>2001</th>\n",
       "      <th>2002</th>\n",
       "      <th>Unnamed: 20</th>\n",
       "    </tr>\n",
       "  </thead>\n",
       "  <tbody>\n",
       "    <tr>\n",
       "      <th>Albania</th>\n",
       "      <td>nan</td>\n",
       "      <td>nan</td>\n",
       "      <td>nan</td>\n",
       "      <td>nan</td>\n",
       "      <td>nan</td>\n",
       "      <td>nan</td>\n",
       "      <td>nan</td>\n",
       "      <td>nan</td>\n",
       "      <td>nan</td>\n",
       "      <td>nan</td>\n",
       "      <td>nan</td>\n",
       "      <td>nan</td>\n",
       "      <td>nan</td>\n",
       "      <td>nan</td>\n",
       "      <td>nan</td>\n",
       "      <td>52</td>\n",
       "      <td>203</td>\n",
       "      <td>502</td>\n",
       "      <td>nan</td>\n",
       "      <td>nan</td>\n",
       "    </tr>\n",
       "    <tr>\n",
       "      <th>Algeria</th>\n",
       "      <td>nan</td>\n",
       "      <td>nan</td>\n",
       "      <td>nan</td>\n",
       "      <td>nan</td>\n",
       "      <td>nan</td>\n",
       "      <td>nan</td>\n",
       "      <td>592</td>\n",
       "      <td>617</td>\n",
       "      <td>83</td>\n",
       "      <td>nan</td>\n",
       "      <td>nan</td>\n",
       "      <td>118</td>\n",
       "      <td>nan</td>\n",
       "      <td>863</td>\n",
       "      <td>nan</td>\n",
       "      <td>nan</td>\n",
       "      <td>nan</td>\n",
       "      <td>nan</td>\n",
       "      <td>111</td>\n",
       "      <td>nan</td>\n",
       "    </tr>\n",
       "    <tr>\n",
       "      <th>Argentina</th>\n",
       "      <td>1,677</td>\n",
       "      <td>nan</td>\n",
       "      <td>598</td>\n",
       "      <td>2,575</td>\n",
       "      <td>1,815</td>\n",
       "      <td>nan</td>\n",
       "      <td>nan</td>\n",
       "      <td>406</td>\n",
       "      <td>663</td>\n",
       "      <td>3,479</td>\n",
       "      <td>2,130</td>\n",
       "      <td>1,004</td>\n",
       "      <td>1,792</td>\n",
       "      <td>1,228</td>\n",
       "      <td>1,689</td>\n",
       "      <td>1,241</td>\n",
       "      <td>1,587</td>\n",
       "      <td>nan</td>\n",
       "      <td>nan</td>\n",
       "      <td>nan</td>\n",
       "    </tr>\n",
       "    <tr>\n",
       "      <th>Armenia</th>\n",
       "      <td>nan</td>\n",
       "      <td>nan</td>\n",
       "      <td>nan</td>\n",
       "      <td>nan</td>\n",
       "      <td>nan</td>\n",
       "      <td>nan</td>\n",
       "      <td>nan</td>\n",
       "      <td>nan</td>\n",
       "      <td>nan</td>\n",
       "      <td>nan</td>\n",
       "      <td>nan</td>\n",
       "      <td>nan</td>\n",
       "      <td>127</td>\n",
       "      <td>143</td>\n",
       "      <td>85</td>\n",
       "      <td>205</td>\n",
       "      <td>168</td>\n",
       "      <td>185</td>\n",
       "      <td>151</td>\n",
       "      <td>nan</td>\n",
       "    </tr>\n",
       "    <tr>\n",
       "      <th>Aruba</th>\n",
       "      <td>nan</td>\n",
       "      <td>nan</td>\n",
       "      <td>nan</td>\n",
       "      <td>nan</td>\n",
       "      <td>nan</td>\n",
       "      <td>nan</td>\n",
       "      <td>nan</td>\n",
       "      <td>nan</td>\n",
       "      <td>nan</td>\n",
       "      <td>nan</td>\n",
       "      <td>nan</td>\n",
       "      <td>nan</td>\n",
       "      <td>nan</td>\n",
       "      <td>nan</td>\n",
       "      <td>nan</td>\n",
       "      <td>nan</td>\n",
       "      <td>nan</td>\n",
       "      <td>nan</td>\n",
       "      <td>3</td>\n",
       "      <td>nan</td>\n",
       "    </tr>\n",
       "  </tbody>\n",
       "</table>\n",
       "</div>"
      ],
      "text/plain": [
       "           1984  1985  1986  1987  1988  1989  1990  1991  1992  1993  1994  \\\n",
       "Albania     nan   nan   nan   nan   nan   nan   nan   nan   nan   nan   nan   \n",
       "Algeria     nan   nan   nan   nan   nan   nan   592   617    83   nan   nan   \n",
       "Argentina 1,677   nan   598 2,575 1,815   nan   nan   406   663 3,479 2,130   \n",
       "Armenia     nan   nan   nan   nan   nan   nan   nan   nan   nan   nan   nan   \n",
       "Aruba       nan   nan   nan   nan   nan   nan   nan   nan   nan   nan   nan   \n",
       "\n",
       "           1995  1996  1997  1998  1999  2000  2001  2002  Unnamed: 20  \n",
       "Albania     nan   nan   nan   nan    52   203   502   nan          nan  \n",
       "Algeria     118   nan   863   nan   nan   nan   nan   111          nan  \n",
       "Argentina 1,004 1,792 1,228 1,689 1,241 1,587   nan   nan          nan  \n",
       "Armenia     nan   127   143    85   205   168   185   151          nan  \n",
       "Aruba       nan   nan   nan   nan   nan   nan   nan     3          nan  "
      ]
     },
     "execution_count": 6,
     "metadata": {},
     "output_type": "execute_result"
    }
   ],
   "source": [
    "# check the conversion of csv to dataframe\n",
    "df_pat.head()"
   ]
  },
  {
   "cell_type": "code",
   "execution_count": 7,
   "metadata": {},
   "outputs": [
    {
     "data": {
      "text/html": [
       "<div>\n",
       "<style scoped>\n",
       "    .dataframe tbody tr th:only-of-type {\n",
       "        vertical-align: middle;\n",
       "    }\n",
       "\n",
       "    .dataframe tbody tr th {\n",
       "        vertical-align: top;\n",
       "    }\n",
       "\n",
       "    .dataframe thead th {\n",
       "        text-align: right;\n",
       "    }\n",
       "</style>\n",
       "<table border=\"1\" class=\"dataframe\">\n",
       "  <thead>\n",
       "    <tr style=\"text-align: right;\">\n",
       "      <th></th>\n",
       "      <th>1800</th>\n",
       "      <th>1810</th>\n",
       "      <th>1820</th>\n",
       "      <th>1830</th>\n",
       "      <th>1840</th>\n",
       "      <th>1850</th>\n",
       "      <th>1860</th>\n",
       "      <th>1870</th>\n",
       "      <th>1880</th>\n",
       "      <th>1890</th>\n",
       "      <th>...</th>\n",
       "      <th>Unnamed: 82</th>\n",
       "      <th>Unnamed: 83</th>\n",
       "      <th>Unnamed: 84</th>\n",
       "      <th>Unnamed: 85</th>\n",
       "      <th>Unnamed: 86</th>\n",
       "      <th>Unnamed: 87</th>\n",
       "      <th>Unnamed: 88</th>\n",
       "      <th>Unnamed: 89</th>\n",
       "      <th>Unnamed: 90</th>\n",
       "      <th>Unnamed: 91</th>\n",
       "    </tr>\n",
       "  </thead>\n",
       "  <tbody>\n",
       "    <tr>\n",
       "      <th>Abkhazia</th>\n",
       "      <td>nan</td>\n",
       "      <td>nan</td>\n",
       "      <td>nan</td>\n",
       "      <td>nan</td>\n",
       "      <td>nan</td>\n",
       "      <td>nan</td>\n",
       "      <td>nan</td>\n",
       "      <td>nan</td>\n",
       "      <td>nan</td>\n",
       "      <td>nan</td>\n",
       "      <td>...</td>\n",
       "      <td>nan</td>\n",
       "      <td>nan</td>\n",
       "      <td>nan</td>\n",
       "      <td>nan</td>\n",
       "      <td>nan</td>\n",
       "      <td>nan</td>\n",
       "      <td>nan</td>\n",
       "      <td>nan</td>\n",
       "      <td>nan</td>\n",
       "      <td>nan</td>\n",
       "    </tr>\n",
       "    <tr>\n",
       "      <th>Afghanistan</th>\n",
       "      <td>3,280,000</td>\n",
       "      <td>3,280,000</td>\n",
       "      <td>3,323,519</td>\n",
       "      <td>3,448,982</td>\n",
       "      <td>3,625,022</td>\n",
       "      <td>3,810,047</td>\n",
       "      <td>3,973,968</td>\n",
       "      <td>4,169,690</td>\n",
       "      <td>4,419,695</td>\n",
       "      <td>4,710,171</td>\n",
       "      <td>...</td>\n",
       "      <td>nan</td>\n",
       "      <td>nan</td>\n",
       "      <td>nan</td>\n",
       "      <td>nan</td>\n",
       "      <td>nan</td>\n",
       "      <td>nan</td>\n",
       "      <td>nan</td>\n",
       "      <td>nan</td>\n",
       "      <td>nan</td>\n",
       "      <td>nan</td>\n",
       "    </tr>\n",
       "    <tr>\n",
       "      <th>Akrotiri and Dhekelia</th>\n",
       "      <td>nan</td>\n",
       "      <td>nan</td>\n",
       "      <td>nan</td>\n",
       "      <td>nan</td>\n",
       "      <td>nan</td>\n",
       "      <td>nan</td>\n",
       "      <td>nan</td>\n",
       "      <td>nan</td>\n",
       "      <td>nan</td>\n",
       "      <td>nan</td>\n",
       "      <td>...</td>\n",
       "      <td>nan</td>\n",
       "      <td>nan</td>\n",
       "      <td>nan</td>\n",
       "      <td>nan</td>\n",
       "      <td>nan</td>\n",
       "      <td>nan</td>\n",
       "      <td>nan</td>\n",
       "      <td>nan</td>\n",
       "      <td>nan</td>\n",
       "      <td>nan</td>\n",
       "    </tr>\n",
       "    <tr>\n",
       "      <th>Albania</th>\n",
       "      <td>410,445</td>\n",
       "      <td>423,591</td>\n",
       "      <td>438,671</td>\n",
       "      <td>457,234</td>\n",
       "      <td>478,227</td>\n",
       "      <td>506,889</td>\n",
       "      <td>552,800</td>\n",
       "      <td>610,036</td>\n",
       "      <td>672,544</td>\n",
       "      <td>741,688</td>\n",
       "      <td>...</td>\n",
       "      <td>nan</td>\n",
       "      <td>nan</td>\n",
       "      <td>nan</td>\n",
       "      <td>nan</td>\n",
       "      <td>nan</td>\n",
       "      <td>nan</td>\n",
       "      <td>nan</td>\n",
       "      <td>nan</td>\n",
       "      <td>nan</td>\n",
       "      <td>nan</td>\n",
       "    </tr>\n",
       "    <tr>\n",
       "      <th>Algeria</th>\n",
       "      <td>2,503,218</td>\n",
       "      <td>2,595,056</td>\n",
       "      <td>2,713,079</td>\n",
       "      <td>2,880,355</td>\n",
       "      <td>3,082,721</td>\n",
       "      <td>3,299,305</td>\n",
       "      <td>3,536,468</td>\n",
       "      <td>3,811,028</td>\n",
       "      <td>4,143,163</td>\n",
       "      <td>4,525,691</td>\n",
       "      <td>...</td>\n",
       "      <td>nan</td>\n",
       "      <td>nan</td>\n",
       "      <td>nan</td>\n",
       "      <td>nan</td>\n",
       "      <td>nan</td>\n",
       "      <td>nan</td>\n",
       "      <td>nan</td>\n",
       "      <td>nan</td>\n",
       "      <td>nan</td>\n",
       "      <td>nan</td>\n",
       "    </tr>\n",
       "  </tbody>\n",
       "</table>\n",
       "<p>5 rows × 91 columns</p>\n",
       "</div>"
      ],
      "text/plain": [
       "                           1800      1810      1820      1830      1840  \\\n",
       "Abkhazia                    nan       nan       nan       nan       nan   \n",
       "Afghanistan           3,280,000 3,280,000 3,323,519 3,448,982 3,625,022   \n",
       "Akrotiri and Dhekelia       nan       nan       nan       nan       nan   \n",
       "Albania                 410,445   423,591   438,671   457,234   478,227   \n",
       "Algeria               2,503,218 2,595,056 2,713,079 2,880,355 3,082,721   \n",
       "\n",
       "                           1850      1860      1870      1880      1890  \\\n",
       "Abkhazia                    nan       nan       nan       nan       nan   \n",
       "Afghanistan           3,810,047 3,973,968 4,169,690 4,419,695 4,710,171   \n",
       "Akrotiri and Dhekelia       nan       nan       nan       nan       nan   \n",
       "Albania                 506,889   552,800   610,036   672,544   741,688   \n",
       "Algeria               3,299,305 3,536,468 3,811,028 4,143,163 4,525,691   \n",
       "\n",
       "                          ...       Unnamed: 82  Unnamed: 83  Unnamed: 84  \\\n",
       "Abkhazia                  ...               nan          nan          nan   \n",
       "Afghanistan               ...               nan          nan          nan   \n",
       "Akrotiri and Dhekelia     ...               nan          nan          nan   \n",
       "Albania                   ...               nan          nan          nan   \n",
       "Algeria                   ...               nan          nan          nan   \n",
       "\n",
       "                       Unnamed: 85  Unnamed: 86  Unnamed: 87  Unnamed: 88  \\\n",
       "Abkhazia                       nan          nan          nan          nan   \n",
       "Afghanistan                    nan          nan          nan          nan   \n",
       "Akrotiri and Dhekelia          nan          nan          nan          nan   \n",
       "Albania                        nan          nan          nan          nan   \n",
       "Algeria                        nan          nan          nan          nan   \n",
       "\n",
       "                       Unnamed: 89  Unnamed: 90  Unnamed: 91  \n",
       "Abkhazia                       nan          nan          nan  \n",
       "Afghanistan                    nan          nan          nan  \n",
       "Akrotiri and Dhekelia          nan          nan          nan  \n",
       "Albania                        nan          nan          nan  \n",
       "Algeria                        nan          nan          nan  \n",
       "\n",
       "[5 rows x 91 columns]"
      ]
     },
     "execution_count": 7,
     "metadata": {},
     "output_type": "execute_result"
    }
   ],
   "source": [
    "# check the conversion of csv to dataframe\n",
    "df_pop.head()"
   ]
  },
  {
   "cell_type": "markdown",
   "metadata": {},
   "source": [
    "By inspection, there are many NULL (nan) values in all three data sets; the rows contain different countries in different orders; the columns contain different years with different spacing; there are unnamed columns in the patent and population dataframes."
   ]
  },
  {
   "cell_type": "markdown",
   "metadata": {},
   "source": [
    "### Data Cleaning"
   ]
  },
  {
   "cell_type": "markdown",
   "metadata": {},
   "source": [
    "#### Find and remove duplicates"
   ]
  },
  {
   "cell_type": "code",
   "execution_count": 8,
   "metadata": {},
   "outputs": [
    {
     "name": "stdout",
     "output_type": "stream",
     "text": [
      "69 duplicate rows in internet dataframe.\n",
      "0 duplicate rows in patent dataframe.\n",
      "742 duplicate rows in population dataframe.\n"
     ]
    }
   ],
   "source": [
    "# total number of duplicate rows in each df\n",
    "print(df_int.duplicated().sum(), 'duplicate rows in internet dataframe.', )\n",
    "print(df_pat.duplicated().sum(), 'duplicate rows in patent dataframe.')\n",
    "print(df_pop.duplicated().sum(), 'duplicate rows in population dataframe.')"
   ]
  },
  {
   "cell_type": "code",
   "execution_count": 9,
   "metadata": {},
   "outputs": [],
   "source": [
    "# remove duplicate rows\n",
    "df_int.drop_duplicates(inplace = True)\n",
    "df_pat.drop_duplicates(inplace = True)\n",
    "df_pop.drop_duplicates(inplace = True)"
   ]
  },
  {
   "cell_type": "code",
   "execution_count": 10,
   "metadata": {},
   "outputs": [
    {
     "name": "stdout",
     "output_type": "stream",
     "text": [
      "0 duplicate rows in internet dataframe.\n",
      "0 duplicate rows in patent dataframe.\n",
      "0 duplicate rows in population dataframe.\n"
     ]
    }
   ],
   "source": [
    "# total number of duplicate rows in each df\n",
    "print(df_int.duplicated().sum(), 'duplicate rows in internet dataframe.', )\n",
    "print(df_pat.duplicated().sum(), 'duplicate rows in patent dataframe.')\n",
    "print(df_pop.duplicated().sum(), 'duplicate rows in population dataframe.')"
   ]
  },
  {
   "cell_type": "markdown",
   "metadata": {},
   "source": [
    "#### Trim unnamed columns"
   ]
  },
  {
   "cell_type": "code",
   "execution_count": 11,
   "metadata": {},
   "outputs": [
    {
     "name": "stdout",
     "output_type": "stream",
     "text": [
      "<class 'pandas.core.frame.DataFrame'>\n",
      "Index: 206 entries, Abkhazia to Zimbabwe\n",
      "Data columns (total 22 columns):\n",
      "1990    203 non-null float64\n",
      "1991    39 non-null float64\n",
      "1992    50 non-null float64\n",
      "1993    64 non-null float64\n",
      "1994    90 non-null float64\n",
      "1995    138 non-null float64\n",
      "1996    171 non-null float64\n",
      "1997    180 non-null float64\n",
      "1998    186 non-null float64\n",
      "1999    193 non-null float64\n",
      "2000    195 non-null float64\n",
      "2001    196 non-null float64\n",
      "2002    198 non-null float64\n",
      "2003    193 non-null float64\n",
      "2004    196 non-null float64\n",
      "2005    198 non-null float64\n",
      "2006    198 non-null float64\n",
      "2007    200 non-null float64\n",
      "2008    203 non-null float64\n",
      "2009    201 non-null float64\n",
      "2010    194 non-null float64\n",
      "2011    187 non-null float64\n",
      "dtypes: float64(22)\n",
      "memory usage: 37.0+ KB\n"
     ]
    }
   ],
   "source": [
    "# brief summary of dataframe\n",
    "df_int.info()"
   ]
  },
  {
   "cell_type": "markdown",
   "metadata": {},
   "source": [
    "The internet dataframe is acceptable."
   ]
  },
  {
   "cell_type": "code",
   "execution_count": 12,
   "metadata": {},
   "outputs": [
    {
     "name": "stdout",
     "output_type": "stream",
     "text": [
      "<class 'pandas.core.frame.DataFrame'>\n",
      "Index: 149 entries, Albania to nan\n",
      "Data columns (total 20 columns):\n",
      "1984           88 non-null float64\n",
      "1985           89 non-null float64\n",
      "1986           84 non-null float64\n",
      "1987           79 non-null float64\n",
      "1988           85 non-null float64\n",
      "1989           85 non-null float64\n",
      "1990           86 non-null float64\n",
      "1991           84 non-null float64\n",
      "1992           92 non-null float64\n",
      "1993           96 non-null float64\n",
      "1994           97 non-null float64\n",
      "1995           104 non-null float64\n",
      "1996           103 non-null float64\n",
      "1997           87 non-null float64\n",
      "1998           83 non-null float64\n",
      "1999           98 non-null float64\n",
      "2000           91 non-null float64\n",
      "2001           80 non-null float64\n",
      "2002           68 non-null float64\n",
      "Unnamed: 20    0 non-null float64\n",
      "dtypes: float64(20)\n",
      "memory usage: 24.4+ KB\n"
     ]
    }
   ],
   "source": [
    "# brief summary of dataframe\n",
    "df_pat.info()"
   ]
  },
  {
   "cell_type": "markdown",
   "metadata": {},
   "source": [
    "The last column in the patent dataframe is unnamed and full of NULL values. This is an artifact of the conversion from XLSX > CSV > pandas DataFrame. This column can be removed entirely."
   ]
  },
  {
   "cell_type": "code",
   "execution_count": 13,
   "metadata": {},
   "outputs": [],
   "source": [
    "# remove the last column\n",
    "df_pat = df_pat.iloc[:,:-1]"
   ]
  },
  {
   "cell_type": "code",
   "execution_count": 14,
   "metadata": {},
   "outputs": [
    {
     "name": "stdout",
     "output_type": "stream",
     "text": [
      "<class 'pandas.core.frame.DataFrame'>\n",
      "Index: 149 entries, Albania to nan\n",
      "Data columns (total 19 columns):\n",
      "1984    88 non-null float64\n",
      "1985    89 non-null float64\n",
      "1986    84 non-null float64\n",
      "1987    79 non-null float64\n",
      "1988    85 non-null float64\n",
      "1989    85 non-null float64\n",
      "1990    86 non-null float64\n",
      "1991    84 non-null float64\n",
      "1992    92 non-null float64\n",
      "1993    96 non-null float64\n",
      "1994    97 non-null float64\n",
      "1995    104 non-null float64\n",
      "1996    103 non-null float64\n",
      "1997    87 non-null float64\n",
      "1998    83 non-null float64\n",
      "1999    98 non-null float64\n",
      "2000    91 non-null float64\n",
      "2001    80 non-null float64\n",
      "2002    68 non-null float64\n",
      "dtypes: float64(19)\n",
      "memory usage: 23.3+ KB\n"
     ]
    }
   ],
   "source": [
    "# brief summary of dataframe\n",
    "df_pat.info()"
   ]
  },
  {
   "cell_type": "markdown",
   "metadata": {},
   "source": [
    "The patent dataframe is now prepared for analysis."
   ]
  },
  {
   "cell_type": "code",
   "execution_count": 15,
   "metadata": {},
   "outputs": [
    {
     "name": "stdout",
     "output_type": "stream",
     "text": [
      "<class 'pandas.core.frame.DataFrame'>\n",
      "Index: 257 entries, Abkhazia to Sint Maarten (Dutch part)\n",
      "Data columns (total 91 columns):\n",
      "1800           229 non-null float64\n",
      "1810           229 non-null float64\n",
      "1820           229 non-null float64\n",
      "1830           229 non-null float64\n",
      "1840           229 non-null float64\n",
      "1850           229 non-null float64\n",
      "1860           229 non-null float64\n",
      "1870           229 non-null float64\n",
      "1880           229 non-null float64\n",
      "1890           229 non-null float64\n",
      "1900           229 non-null float64\n",
      "1910           229 non-null float64\n",
      "1920           229 non-null float64\n",
      "1930           229 non-null float64\n",
      "1940           229 non-null float64\n",
      "1950           256 non-null float64\n",
      "1951           256 non-null float64\n",
      "1952           256 non-null float64\n",
      "1953           256 non-null float64\n",
      "1954           256 non-null float64\n",
      "1955           256 non-null float64\n",
      "1956           256 non-null float64\n",
      "1957           256 non-null float64\n",
      "1958           256 non-null float64\n",
      "1959           256 non-null float64\n",
      "1960           256 non-null float64\n",
      "1961           256 non-null float64\n",
      "1962           256 non-null float64\n",
      "1963           256 non-null float64\n",
      "1964           256 non-null float64\n",
      "1965           256 non-null float64\n",
      "1966           256 non-null float64\n",
      "1967           256 non-null float64\n",
      "1968           256 non-null float64\n",
      "1969           256 non-null float64\n",
      "1970           256 non-null float64\n",
      "1971           256 non-null float64\n",
      "1972           256 non-null float64\n",
      "1973           256 non-null float64\n",
      "1974           256 non-null float64\n",
      "1975           256 non-null float64\n",
      "1976           256 non-null float64\n",
      "1977           256 non-null float64\n",
      "1978           256 non-null float64\n",
      "1979           256 non-null float64\n",
      "1980           256 non-null float64\n",
      "1981           256 non-null float64\n",
      "1982           256 non-null float64\n",
      "1983           256 non-null float64\n",
      "1984           256 non-null float64\n",
      "1985           256 non-null float64\n",
      "1986           256 non-null float64\n",
      "1987           256 non-null float64\n",
      "1988           256 non-null float64\n",
      "1989           256 non-null float64\n",
      "1990           256 non-null float64\n",
      "1991           256 non-null float64\n",
      "1992           256 non-null float64\n",
      "1993           256 non-null float64\n",
      "1994           256 non-null float64\n",
      "1995           256 non-null float64\n",
      "1996           256 non-null float64\n",
      "1997           256 non-null float64\n",
      "1998           256 non-null float64\n",
      "1999           256 non-null float64\n",
      "2000           256 non-null float64\n",
      "2001           256 non-null float64\n",
      "2002           256 non-null float64\n",
      "2003           256 non-null float64\n",
      "2004           256 non-null float64\n",
      "2005           256 non-null float64\n",
      "2006           256 non-null float64\n",
      "2007           256 non-null float64\n",
      "2008           256 non-null float64\n",
      "2009           238 non-null float64\n",
      "2010           238 non-null float64\n",
      "2011           233 non-null float64\n",
      "2012           233 non-null float64\n",
      "2013           233 non-null float64\n",
      "2014           231 non-null float64\n",
      "2015           231 non-null float64\n",
      "Unnamed: 82    0 non-null float64\n",
      "Unnamed: 83    0 non-null float64\n",
      "Unnamed: 84    0 non-null float64\n",
      "Unnamed: 85    0 non-null float64\n",
      "Unnamed: 86    0 non-null float64\n",
      "Unnamed: 87    0 non-null float64\n",
      "Unnamed: 88    0 non-null float64\n",
      "Unnamed: 89    0 non-null float64\n",
      "Unnamed: 90    0 non-null float64\n",
      "Unnamed: 91    0 non-null float64\n",
      "dtypes: float64(91)\n",
      "memory usage: 184.7+ KB\n"
     ]
    }
   ],
   "source": [
    "# brief summary of dataframe\n",
    "df_pop.info()"
   ]
  },
  {
   "cell_type": "markdown",
   "metadata": {},
   "source": [
    "The population data set has a similar problem as the patent data, the last 10 columns are artifacts of the raw data conversion, they are completely NULL and can be removed."
   ]
  },
  {
   "cell_type": "code",
   "execution_count": 16,
   "metadata": {},
   "outputs": [],
   "source": [
    "# remove the last 10 columns\n",
    "df_pop = df_pop.iloc[:,:-10]"
   ]
  },
  {
   "cell_type": "code",
   "execution_count": 17,
   "metadata": {},
   "outputs": [
    {
     "name": "stdout",
     "output_type": "stream",
     "text": [
      "<class 'pandas.core.frame.DataFrame'>\n",
      "Index: 257 entries, Abkhazia to Sint Maarten (Dutch part)\n",
      "Data columns (total 81 columns):\n",
      "1800    229 non-null float64\n",
      "1810    229 non-null float64\n",
      "1820    229 non-null float64\n",
      "1830    229 non-null float64\n",
      "1840    229 non-null float64\n",
      "1850    229 non-null float64\n",
      "1860    229 non-null float64\n",
      "1870    229 non-null float64\n",
      "1880    229 non-null float64\n",
      "1890    229 non-null float64\n",
      "1900    229 non-null float64\n",
      "1910    229 non-null float64\n",
      "1920    229 non-null float64\n",
      "1930    229 non-null float64\n",
      "1940    229 non-null float64\n",
      "1950    256 non-null float64\n",
      "1951    256 non-null float64\n",
      "1952    256 non-null float64\n",
      "1953    256 non-null float64\n",
      "1954    256 non-null float64\n",
      "1955    256 non-null float64\n",
      "1956    256 non-null float64\n",
      "1957    256 non-null float64\n",
      "1958    256 non-null float64\n",
      "1959    256 non-null float64\n",
      "1960    256 non-null float64\n",
      "1961    256 non-null float64\n",
      "1962    256 non-null float64\n",
      "1963    256 non-null float64\n",
      "1964    256 non-null float64\n",
      "1965    256 non-null float64\n",
      "1966    256 non-null float64\n",
      "1967    256 non-null float64\n",
      "1968    256 non-null float64\n",
      "1969    256 non-null float64\n",
      "1970    256 non-null float64\n",
      "1971    256 non-null float64\n",
      "1972    256 non-null float64\n",
      "1973    256 non-null float64\n",
      "1974    256 non-null float64\n",
      "1975    256 non-null float64\n",
      "1976    256 non-null float64\n",
      "1977    256 non-null float64\n",
      "1978    256 non-null float64\n",
      "1979    256 non-null float64\n",
      "1980    256 non-null float64\n",
      "1981    256 non-null float64\n",
      "1982    256 non-null float64\n",
      "1983    256 non-null float64\n",
      "1984    256 non-null float64\n",
      "1985    256 non-null float64\n",
      "1986    256 non-null float64\n",
      "1987    256 non-null float64\n",
      "1988    256 non-null float64\n",
      "1989    256 non-null float64\n",
      "1990    256 non-null float64\n",
      "1991    256 non-null float64\n",
      "1992    256 non-null float64\n",
      "1993    256 non-null float64\n",
      "1994    256 non-null float64\n",
      "1995    256 non-null float64\n",
      "1996    256 non-null float64\n",
      "1997    256 non-null float64\n",
      "1998    256 non-null float64\n",
      "1999    256 non-null float64\n",
      "2000    256 non-null float64\n",
      "2001    256 non-null float64\n",
      "2002    256 non-null float64\n",
      "2003    256 non-null float64\n",
      "2004    256 non-null float64\n",
      "2005    256 non-null float64\n",
      "2006    256 non-null float64\n",
      "2007    256 non-null float64\n",
      "2008    256 non-null float64\n",
      "2009    238 non-null float64\n",
      "2010    238 non-null float64\n",
      "2011    233 non-null float64\n",
      "2012    233 non-null float64\n",
      "2013    233 non-null float64\n",
      "2014    231 non-null float64\n",
      "2015    231 non-null float64\n",
      "dtypes: float64(81)\n",
      "memory usage: 164.6+ KB\n"
     ]
    }
   ],
   "source": [
    "# brief summary of dataframe\n",
    "df_pop.info()"
   ]
  },
  {
   "cell_type": "markdown",
   "metadata": {},
   "source": [
    "The population dataframe is ready for analysis."
   ]
  },
  {
   "cell_type": "markdown",
   "metadata": {},
   "source": [
    "### Handling NULL values"
   ]
  },
  {
   "cell_type": "markdown",
   "metadata": {},
   "source": [
    "The dataframes have been cleaned and trimmed for analysis. However, the question remains of how to handle the NULL values _within_ the tables themselves. One approach is to fill these cells with zero. In this case that does not makes sense: there were not zero people using the internet in an entire country if the data on a specific year is missing. Another approach is to impute the NULL values with a mean or some other derived value. This skews the data in unknown ways, albeit a more realistic skew than a simple zero. The author chooses to leave the NULL values as NULL, the data is missing and it will remain missing in the analysis. This seems the most reasonable choice given the alternatives."
   ]
  },
  {
   "cell_type": "markdown",
   "metadata": {},
   "source": [
    "### Overlapping data for Multiple-Variable (2D) Exploration"
   ]
  },
  {
   "cell_type": "markdown",
   "metadata": {},
   "source": [
    "The three data sets overlap one another on the years 1990 - 2001. These are the common columns. A shared set of country names must also be determined."
   ]
  },
  {
   "cell_type": "code",
   "execution_count": 18,
   "metadata": {},
   "outputs": [],
   "source": [
    "# truncate the data sets on the common columns\n",
    "df_int_overlap = df_int.loc[:, '1990':'2001']\n",
    "df_pat_overlap = df_pat.loc[:, '1990':'2001']\n",
    "df_pop_overlap = df_pop.loc[:, '1990':'2001']"
   ]
  },
  {
   "cell_type": "markdown",
   "metadata": {},
   "source": [
    "The columns are identical, a common set of row indices are needed."
   ]
  },
  {
   "cell_type": "markdown",
   "metadata": {},
   "source": [
    "> Note: The author recognizes that the following code is likely not the most elegant solution, suggestions for improvements are welcome!"
   ]
  },
  {
   "cell_type": "code",
   "execution_count": 19,
   "metadata": {},
   "outputs": [],
   "source": [
    "# create a mask for the internet data based on a common index list\n",
    "index_mask = pd.Series()\n",
    "for index in df_int_overlap.index:\n",
    "    if index in df_pat_overlap.index:\n",
    "        index_mask[index] = True\n",
    "    else:\n",
    "        index_mask[index] = False"
   ]
  },
  {
   "cell_type": "code",
   "execution_count": 20,
   "metadata": {},
   "outputs": [],
   "source": [
    "# apply mask to remove indicies that are not common between dataframes\n",
    "df_int_overlap = df_int_overlap[index_mask]"
   ]
  },
  {
   "cell_type": "code",
   "execution_count": 21,
   "metadata": {},
   "outputs": [],
   "source": [
    "# create a mask for the internet data based on a common index list\n",
    "index_mask = pd.Series()\n",
    "for index in df_pop_overlap.index:\n",
    "    if index in df_int_overlap.index:\n",
    "        index_mask[index] = True\n",
    "    else:\n",
    "        index_mask[index] = False"
   ]
  },
  {
   "cell_type": "code",
   "execution_count": 22,
   "metadata": {},
   "outputs": [],
   "source": [
    "# apply mask to remove indicies that are not common between dataframes\n",
    "df_pop_overlap = df_pop_overlap[index_mask]"
   ]
  },
  {
   "cell_type": "code",
   "execution_count": 23,
   "metadata": {},
   "outputs": [],
   "source": [
    "# create a mask for the internet data based on a common index list\n",
    "index_mask = pd.Series()\n",
    "for index in df_pat_overlap.index:\n",
    "    if index in df_pop_overlap.index:\n",
    "        index_mask[index] = True\n",
    "    else:\n",
    "        index_mask[index] = False"
   ]
  },
  {
   "cell_type": "code",
   "execution_count": 24,
   "metadata": {},
   "outputs": [],
   "source": [
    "# apply mask to remove indicies that are not common between dataframes\n",
    "df_pat_overlap = df_pat_overlap[index_mask]"
   ]
  },
  {
   "cell_type": "code",
   "execution_count": 25,
   "metadata": {},
   "outputs": [
    {
     "name": "stdout",
     "output_type": "stream",
     "text": [
      "(135, 12) is the shape of the OVERLAP internet data.\n",
      "(135, 12) is the shape of the OVERLAP patent data.\n",
      "(135, 12) is the shape of the OVERLAP population data.\n"
     ]
    }
   ],
   "source": [
    "# print dimensions of dataframes\n",
    "print(df_int_overlap.shape, 'is the shape of the OVERLAP internet data.')\n",
    "print(df_pat_overlap.shape, 'is the shape of the OVERLAP patent data.')\n",
    "print(df_pop_overlap.shape, 'is the shape of the OVERLAP population data.')"
   ]
  },
  {
   "cell_type": "markdown",
   "metadata": {},
   "source": [
    "All three \"overlap\" dataframes have the exact same countries (row indices) and years (columns indices). These dataframes can now be easily compared to one another."
   ]
  },
  {
   "cell_type": "markdown",
   "metadata": {},
   "source": [
    "### Normalized patent data"
   ]
  },
  {
   "cell_type": "markdown",
   "metadata": {},
   "source": [
    "The internet data has the units \"internet users per 100 people\", while the patent and population data are \"total occurrences\". Dividing the patent data by the population data (and multiplying by 100) will create a dataframe with units \"patents granted per 100 people\". This normalized patent dataframe can then be compared directly to the internet data since they share common units of \"... per 100 people\"."
   ]
  },
  {
   "cell_type": "code",
   "execution_count": 26,
   "metadata": {},
   "outputs": [],
   "source": [
    "# patents per 100 people\n",
    "# true_divide uses element-wise division, not matrix division\n",
    "df_pat_normalized = np.true_divide(df_pat_overlap, df_pop_overlap)*100"
   ]
  },
  {
   "cell_type": "code",
   "execution_count": 27,
   "metadata": {},
   "outputs": [
    {
     "name": "stdout",
     "output_type": "stream",
     "text": [
      "(135, 12) is the shape of the NORMALIZED patent per 100 people data.\n"
     ]
    }
   ],
   "source": [
    "# print dimensions of dataframes\n",
    "print(df_pat_normalized.shape, 'is the shape of the NORMALIZED patent per 100 people data.')"
   ]
  },
  {
   "cell_type": "markdown",
   "metadata": {},
   "source": [
    "<a id='eda'></a>\n",
    "## Exploratory Data Analysis"
   ]
  },
  {
   "cell_type": "markdown",
   "metadata": {},
   "source": [
    "#### 1. How has the world's internet access increased over time?"
   ]
  },
  {
   "cell_type": "code",
   "execution_count": 28,
   "metadata": {
    "scrolled": false
   },
   "outputs": [
    {
     "data": {
      "image/png": "[encoded data removed]",
      "text/plain": [
       "<Figure size 864x864 with 1 Axes>"
      ]
     },
     "metadata": {
      "needs_background": "light"
     },
     "output_type": "display_data"
    }
   ],
   "source": [
    "ax = df_int.boxplot(figsize = (12,12), return_type = 'axes', rot=90);\n",
    "ax.set_ylim(0, 100);\n",
    "plt.xticks(size=18)\n",
    "plt.yticks(size=18)\n",
    "plt.ylabel('Internet users per 100 people', size=18)\n",
    "plt.title('\\nThe Proliferation of Worldwide Internet Access\\n', size=18);"
   ]
  },
  {
   "cell_type": "markdown",
   "metadata": {},
   "source": [
    "This plot shows the proliferation of internet access worldwide. The distribution is clearly increasing with time in a non-linear fashion. The steady reduction of outliers each year between 2000 and 2006 indicates that the distribution of internet users worldwide is coalescing around a mean value. The data spread (disparity between the minimum and maximum) is decreasing. This democratization of knowledge is a critical catalyst to the progress of humanity."
   ]
  },
  {
   "cell_type": "markdown",
   "metadata": {},
   "source": [
    "#### 2. What countries produced the most patents between 1990 - 2001?"
   ]
  },
  {
   "cell_type": "code",
   "execution_count": 29,
   "metadata": {},
   "outputs": [
    {
     "data": {
      "text/html": [
       "<div>\n",
       "<style scoped>\n",
       "    .dataframe tbody tr th:only-of-type {\n",
       "        vertical-align: middle;\n",
       "    }\n",
       "\n",
       "    .dataframe tbody tr th {\n",
       "        vertical-align: top;\n",
       "    }\n",
       "\n",
       "    .dataframe thead th {\n",
       "        text-align: right;\n",
       "    }\n",
       "</style>\n",
       "<table border=\"1\" class=\"dataframe\">\n",
       "  <thead>\n",
       "    <tr style=\"text-align: right;\">\n",
       "      <th></th>\n",
       "      <th>Total Patents</th>\n",
       "    </tr>\n",
       "  </thead>\n",
       "  <tbody>\n",
       "    <tr>\n",
       "      <th>United States</th>\n",
       "      <td>1,431,933</td>\n",
       "    </tr>\n",
       "    <tr>\n",
       "      <th>Japan</th>\n",
       "      <td>1,369,416</td>\n",
       "    </tr>\n",
       "    <tr>\n",
       "      <th>Germany</th>\n",
       "      <td>557,676</td>\n",
       "    </tr>\n",
       "  </tbody>\n",
       "</table>\n",
       "</div>"
      ],
      "text/plain": [
       "               Total Patents\n",
       "United States      1,431,933\n",
       "Japan              1,369,416\n",
       "Germany              557,676"
      ]
     },
     "execution_count": 29,
     "metadata": {},
     "output_type": "execute_result"
    }
   ],
   "source": [
    "# display a table of countries with the patents\n",
    "tot_pats = df_pat_overlap.sum(axis=1)\n",
    "largest_3 = tot_pats.nlargest(3)\n",
    "max_country = tot_pats.idxmax(axis=1)\n",
    "largest_3 = largest_3.to_frame()\n",
    "largest_3.columns=['Total Patents']\n",
    "largest_3.astype('float64')"
   ]
  },
  {
   "cell_type": "markdown",
   "metadata": {},
   "source": [
    "The United States produced the most patents with Japan as a close second. As discussed, the sheer volume of patents is not a fair metric for comparison. To gauge a country's creativity the number of patents must be normalized against the population."
   ]
  },
  {
   "cell_type": "markdown",
   "metadata": {},
   "source": [
    "#### 3. What countries produced the most patents _per capita_ between 1990 - 2001?"
   ]
  },
  {
   "cell_type": "code",
   "execution_count": 30,
   "metadata": {},
   "outputs": [
    {
     "data": {
      "text/html": [
       "<div>\n",
       "<style scoped>\n",
       "    .dataframe tbody tr th:only-of-type {\n",
       "        vertical-align: middle;\n",
       "    }\n",
       "\n",
       "    .dataframe tbody tr th {\n",
       "        vertical-align: top;\n",
       "    }\n",
       "\n",
       "    .dataframe thead th {\n",
       "        text-align: right;\n",
       "    }\n",
       "</style>\n",
       "<table border=\"1\" class=\"dataframe\">\n",
       "  <thead>\n",
       "    <tr style=\"text-align: right;\">\n",
       "      <th></th>\n",
       "      <th>Patents per 100 People</th>\n",
       "    </tr>\n",
       "  </thead>\n",
       "  <tbody>\n",
       "    <tr>\n",
       "      <th>Japan</th>\n",
       "      <td>31</td>\n",
       "    </tr>\n",
       "    <tr>\n",
       "      <th>Luxembourg</th>\n",
       "      <td>26</td>\n",
       "    </tr>\n",
       "    <tr>\n",
       "      <th>Sweden</th>\n",
       "      <td>23</td>\n",
       "    </tr>\n",
       "  </tbody>\n",
       "</table>\n",
       "</div>"
      ],
      "text/plain": [
       "            Patents per 100 People\n",
       "Japan                           31\n",
       "Luxembourg                      26\n",
       "Sweden                          23"
      ]
     },
     "execution_count": 30,
     "metadata": {},
     "output_type": "execute_result"
    }
   ],
   "source": [
    "# display a table of countries with the patents\n",
    "tot_pats = df_pat_normalized.sum(axis=1)\n",
    "largest_3 = tot_pats.nlargest(3)\n",
    "max_country = tot_pats.idxmax(axis=1)\n",
    "largest_3 = largest_3.to_frame()\n",
    "largest_3.columns=['Patents per 100 People']\n",
    "largest_3.astype('float64')"
   ]
  },
  {
   "cell_type": "markdown",
   "metadata": {},
   "source": [
    "Japan has the most inventive culture with a total of 31 patents per 100 people when considering the eleven year period of the data set. Luxembourg and Sweden also have very creative societies."
   ]
  },
  {
   "cell_type": "markdown",
   "metadata": {},
   "source": [
    "#### 4. For the countries identified in Question 3, what is the Person's R correlation between internet access and patents granted?"
   ]
  },
  {
   "cell_type": "markdown",
   "metadata": {},
   "source": [
    "Build the x and y coordinates for a scatterplot of each country."
   ]
  },
  {
   "cell_type": "code",
   "execution_count": 31,
   "metadata": {},
   "outputs": [],
   "source": [
    "# x-coordinates\n",
    "x_Japan = df_pat_normalized.loc['Japan', :]\n",
    "x_Luxembourg = df_pat_normalized.loc['Luxembourg', :]\n",
    "x_Sweden = df_pat_normalized.loc['Sweden', :]\n",
    "\n",
    "# y-coordinates\n",
    "y_Japan = df_int_overlap.loc['Japan', :]\n",
    "y_Luxembourg = df_int_overlap.loc['Luxembourg', :]\n",
    "y_Sweden = df_int_overlap.loc['Sweden', :]"
   ]
  },
  {
   "cell_type": "markdown",
   "metadata": {},
   "source": [
    "Calculate Pearson's R for each country."
   ]
  },
  {
   "cell_type": "code",
   "execution_count": 32,
   "metadata": {},
   "outputs": [],
   "source": [
    "# Japan correlation\n",
    "df_Japan = pd.concat([x_Japan, y_Japan], axis=1)\n",
    "df_Japan.columns = ['patents', 'internet']\n",
    "df_Japan['Country'] = 'Japan'\n",
    "Pearsons_Japan = df_Japan['internet'].corr(df_Japan['patents'])\n",
    "\n",
    "# Luxembourg correlation\n",
    "df_Luxembourg = pd.concat([x_Luxembourg, y_Luxembourg], axis=1)\n",
    "df_Luxembourg.columns = ['patents', 'internet']\n",
    "df_Luxembourg['Country'] = 'Luxembourg'\n",
    "Pearsons_Luxembourg = df_Luxembourg['internet'].corr(df_Luxembourg['patents'])\n",
    "\n",
    "# Sweden correlation\n",
    "df_Sweden = pd.concat([x_Sweden, y_Sweden], axis=1)\n",
    "df_Sweden.columns = ['patents', 'internet']\n",
    "df_Sweden['Country'] = 'Sweden'\n",
    "Pearsons_Sweden = df_Sweden['internet'].corr(df_Sweden['patents'])"
   ]
  },
  {
   "cell_type": "code",
   "execution_count": 33,
   "metadata": {},
   "outputs": [
    {
     "data": {
      "text/html": [
       "<div>\n",
       "<style scoped>\n",
       "    .dataframe tbody tr th:only-of-type {\n",
       "        vertical-align: middle;\n",
       "    }\n",
       "\n",
       "    .dataframe tbody tr th {\n",
       "        vertical-align: top;\n",
       "    }\n",
       "\n",
       "    .dataframe thead th {\n",
       "        text-align: right;\n",
       "    }\n",
       "</style>\n",
       "<table border=\"1\" class=\"dataframe\">\n",
       "  <thead>\n",
       "    <tr style=\"text-align: right;\">\n",
       "      <th></th>\n",
       "      <th>Pearson's R</th>\n",
       "    </tr>\n",
       "  </thead>\n",
       "  <tbody>\n",
       "    <tr>\n",
       "      <th>Japan</th>\n",
       "      <td>0.2</td>\n",
       "    </tr>\n",
       "    <tr>\n",
       "      <th>Luxembourg</th>\n",
       "      <td>-0.7</td>\n",
       "    </tr>\n",
       "    <tr>\n",
       "      <th>Sweden</th>\n",
       "      <td>-0.8</td>\n",
       "    </tr>\n",
       "  </tbody>\n",
       "</table>\n",
       "</div>"
      ],
      "text/plain": [
       "            Pearson's R\n",
       "Japan               0.2\n",
       "Luxembourg         -0.7\n",
       "Sweden             -0.8"
      ]
     },
     "execution_count": 33,
     "metadata": {},
     "output_type": "execute_result"
    }
   ],
   "source": [
    "# display summary table\n",
    "df_Pearsons = pd.DataFrame(\n",
    "    data=[Pearsons_Japan, Pearsons_Luxembourg, Pearsons_Sweden],\n",
    "    index=['Japan', 'Luxembourg', 'Sweden'], columns=[\"Pearson's R\"])\n",
    "pd.options.display.float_format = '{:,.1f}'.format\n",
    "df_Pearsons"
   ]
  },
  {
   "cell_type": "markdown",
   "metadata": {},
   "source": [
    "Put the data for all three countries into a single dataframe. This will allow all three countries to be examined on the same plot."
   ]
  },
  {
   "cell_type": "code",
   "execution_count": 34,
   "metadata": {},
   "outputs": [],
   "source": [
    "# concatentate results for plotting\n",
    "frames = [df_Japan, df_Luxembourg, df_Sweden]\n",
    "frames = pd.concat(frames)"
   ]
  },
  {
   "cell_type": "markdown",
   "metadata": {},
   "source": [
    "Generate plot using seaborn library and matplotlib customization."
   ]
  },
  {
   "cell_type": "code",
   "execution_count": 35,
   "metadata": {},
   "outputs": [
    {
     "name": "stderr",
     "output_type": "stream",
     "text": [
      "C:\\ProgramData\\Anaconda3\\envs\\proj3\\lib\\site-packages\\scipy\\stats\\stats.py:1713: FutureWarning: Using a non-tuple sequence for multidimensional indexing is deprecated; use `arr[tuple(seq)]` instead of `arr[seq]`. In the future this will be interpreted as an array index, `arr[np.array(seq)]`, which will result either in an error or a different result.\n",
      "  return np.add.reduce(sorted[indexer] * weights, axis=axis) / sumval\n"
     ]
    },
    {
     "data": {
      "image/png": "[encoded data removed]",
      "text/plain": [
       "<Figure size 864x864 with 1 Axes>"
      ]
     },
     "metadata": {
      "needs_background": "light"
     },
     "output_type": "display_data"
    }
   ],
   "source": [
    "# run seaborn plot\n",
    "ax = sns.lmplot(x='internet', y='patents', data=frames, height=12, hue='Country', legend=False)\n",
    "plt.grid(axis='both')\n",
    "plt.title('\\nInfluence of Information Access on Creativity\\n', size=18);\n",
    "plt.xlabel('Internet users per 100 people', size=18)\n",
    "plt.ylabel('Patents per 100 people', size=18)\n",
    "plt.xlim(0,60)\n",
    "plt.ylim(0,8)\n",
    "plt.xticks(size=18)\n",
    "plt.yticks(size=18)\n",
    "plt.legend(fontsize=18);\n",
    "sns.despine(top=False, right=False)"
   ]
  },
  {
   "cell_type": "markdown",
   "metadata": {},
   "source": [
    "This is a rather surprising result. For the most \"creative\" countries, access to the internet has decreased the number of patents per capita. Japan has essentially no correlation (R = 0.2) while Luxembourg (R = -0.7) and Sweden (R = -0.8) have negative correlations."
   ]
  },
  {
   "cell_type": "markdown",
   "metadata": {},
   "source": [
    "<a id='conclusions'></a>\n",
    "## Conclusions"
   ]
  },
  {
   "cell_type": "markdown",
   "metadata": {},
   "source": [
    "A simple question was posed in this discussion: Does access to information (internet) increase creativity (patents granted) on a worldwide scale? For the countries with the most patents per capita (the most creative) between the years 1990 and 2001, the answer is no. This does not imply causation, it is only an observation of the data under discussion and not a definitive statement. The number of patents granted in any given country has a multitude of influencing factors, of which internet access may be a less dominant indicator."
   ]
  },
  {
   "cell_type": "markdown",
   "metadata": {},
   "source": [
    "As a process summary: data was taken in raw XLSX form and converted to utf-8 CSV, then imported as pandas dataframes, duplicate rows removed, and excess columns trimmed. A common set of row indices and column indices was obtained using Python logic so that direct comparisons were possible. As a final step of multivariable analysis, the patent data was normalized with the country population to arrive at a unit system that was consistent with the raw internet data. Summary statistics, along with a comprehensive boxplot and scatterplot regression were considered."
   ]
  }
 ],
 "metadata": {
  "kernelspec": {
   "display_name": "Python [conda env:proj3]",
   "language": "python",
   "name": "conda-env-proj3-py"
  },
  "language_info": {
   "codemirror_mode": {
    "name": "ipython",
    "version": 3
   },
   "file_extension": ".py",
   "mimetype": "text/x-python",
   "name": "python",
   "nbconvert_exporter": "python",
   "pygments_lexer": "ipython3",
   "version": "3.6.6"
  }
 },
 "nbformat": 4,
 "nbformat_minor": 2
}
